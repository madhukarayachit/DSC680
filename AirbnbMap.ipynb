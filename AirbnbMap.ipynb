{
 "cells": [
  {
   "cell_type": "markdown",
   "metadata": {},
   "source": [
    "## Map Visualization with Folium\n",
    "## Airbnb Data "
   ]
  },
  {
   "cell_type": "code",
   "execution_count": null,
   "metadata": {},
   "outputs": [],
   "source": [
    "#Data processing packages\n",
    "import pandas as pd\n",
    "import numpy as np\n",
    "pd.set_option('display.max_colwidth', 300)\n",
    "\n",
    "#Visualization packages\n",
    "import matplotlib.pyplot as plt\n",
    "import seaborn as sns\n",
    "\n",
    "#NLP packages\n",
    "from textblob import TextBlob\n",
    "\n",
    "import warnings\n",
    "warnings.filterwarnings(\"ignore\")\n",
    "import folium\n",
    "from folium import plugins"
   ]
  },
  {
   "cell_type": "code",
   "execution_count": null,
   "metadata": {},
   "outputs": [],
   "source": [
    "airbnb_data=pd.read_csv(\"data/airbnbIstanbul.csv\")\n",
    "airbnb_data.head()"
   ]
  },
  {
   "cell_type": "code",
   "execution_count": null,
   "metadata": {},
   "outputs": [],
   "source": [
    "airbnb_data.isnull().sum().to_frame() #let’s look at missing values"
   ]
  },
  {
   "cell_type": "markdown",
   "metadata": {},
   "source": [
    "## MarkerCluster"
   ]
  },
  {
   "cell_type": "code",
   "execution_count": null,
   "metadata": {},
   "outputs": [],
   "source": [
    "m = folium.Map([42 ,29], zoom_start=5,width=\"%100\",height=\"%100\")\n",
    "locations = list(zip(airbnb_data.latitude, airbnb_data.longitude))\n",
    "cluster = plugins.MarkerCluster(locations=locations,                     \n",
    "               popups=airbnb_data[\"neighbourhood\"].tolist())  \n",
    "m.add_child(cluster)\n",
    "m"
   ]
  },
  {
   "cell_type": "markdown",
   "metadata": {},
   "source": [
    "## CircleMarker"
   ]
  },
  {
   "cell_type": "code",
   "execution_count": null,
   "metadata": {},
   "outputs": [],
   "source": [
    "m = folium.Map(location=[41,29],width=\"%100\",height=\"%100\")\n",
    "for i in range(len(locations)):\n",
    "    folium.CircleMarker(location=locations[i],radius=1).add_to(m)\n",
    "m"
   ]
  },
  {
   "cell_type": "code",
   "execution_count": null,
   "metadata": {},
   "outputs": [],
   "source": []
  },
  {
   "cell_type": "code",
   "execution_count": null,
   "metadata": {},
   "outputs": [],
   "source": [
    "airbnb=airbnb_data[[\"latitude\",\"longitude\",\"price\"]]\n",
    "min_price=airbnb_data[\"price\"].min()\n",
    "max_price=airbnb_data[\"price\"].max()\n",
    "airbnb[\"price\"].describe().to_frame()"
   ]
  },
  {
   "cell_type": "markdown",
   "metadata": {},
   "source": [
    "## StepColormap"
   ]
  },
  {
   "cell_type": "code",
   "execution_count": null,
   "metadata": {},
   "outputs": [],
   "source": [
    "import branca.colormap as cm\n",
    "m = folium.Map(location=[41,29],width=\"%100\",height=\"%100\")\n",
    "colormap = cm.StepColormap(colors=['green','yellow','orange','red'] ,#renkler\n",
    "                           index=[min_price,105,190,327,max_price], #eşik değerler\n",
    "                           vmin= min_price,\n",
    "                           vmax=max_price)\n",
    "for loc, p in zip(zip(airbnb[\"latitude\"],airbnb[\"longitude\"]),airbnb[\"price\"]):\n",
    "      folium.Circle(\n",
    "      location=loc,\n",
    "      radius=2, #yarıçap\n",
    "      fill=True, \n",
    "      color=colormap(p)\n",
    ").add_to(m)\n",
    "m"
   ]
  },
  {
   "cell_type": "code",
   "execution_count": null,
   "metadata": {},
   "outputs": [],
   "source": [
    "airbnb.sample(3)"
   ]
  },
  {
   "cell_type": "markdown",
   "metadata": {},
   "source": [
    "## HeatMap"
   ]
  },
  {
   "cell_type": "code",
   "execution_count": null,
   "metadata": {},
   "outputs": [],
   "source": [
    "heat_data = airbnb.groupby([\"latitude\",\"longitude\"])['price'].mean().reset_index().values.tolist()  \n",
    "folium.plugins.HeatMap(heat_data).add_to(m)\n",
    "m"
   ]
  }
 ],
 "metadata": {
  "kernelspec": {
   "display_name": "Python 3",
   "language": "python",
   "name": "python3"
  },
  "language_info": {
   "codemirror_mode": {
    "name": "ipython",
    "version": 3
   },
   "file_extension": ".py",
   "mimetype": "text/x-python",
   "name": "python",
   "nbconvert_exporter": "python",
   "pygments_lexer": "ipython3",
   "version": "3.8.5"
  }
 },
 "nbformat": 4,
 "nbformat_minor": 4
}
